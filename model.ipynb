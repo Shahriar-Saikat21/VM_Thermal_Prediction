{
  "cells": [
    {
      "cell_type": "code",
      "execution_count": 1,
      "metadata": {
        "id": "BTsYrsqkC2tu"
      },
      "outputs": [],
      "source": [
        "import numpy as np\n",
        "import matplotlib.pyplot as plt\n",
        "import pandas as pd\n",
        "import seaborn as sns"
      ]
    },
    {
      "cell_type": "markdown",
      "metadata": {
        "id": "SLwS-W3-C2tw"
      },
      "source": [
        "CPU -->  CPU Load (%) <br>\n",
        "R    -->        RAM- Random Access Memory (MB)<br>\n",
        "Rx    -->       RAM in usage (MB)<br>\n",
        "NCPU   -->      Number of CPU cores<br>\n",
        "NCPUx  -->      Number of CPU cores in use<br>\n",
        "NRx   -->       Network inbound traffic (Kbps)<br>\n",
        "NTx   -->       Network outbound traffic (Kbps)<br>\n",
        "Pc   -->        Power consumed by host (watts)<br>\n",
        "Tcpu1  -->      CPU 1 temperature (C)<br>\n",
        "Tcpu2  -->      CPU 2 temperature (C)<br>\n",
        "fs1   -->       fan1 speed (RPM)<br>\n",
        "fs2  -->        fan2 speed (RPM)<br>\n",
        "fs3  -->        fan3 speed (RPM)<br>\n",
        "fs4   -->       fan4 speed (RPM)<br>\n",
        "Tin   -->       Inlet temperature (C)<br>\n",
        "Nvm   -->       Number of VMs running on host<br>"
      ]
    },
    {
      "cell_type": "code",
      "execution_count": 3,
      "metadata": {
        "colab": {
          "base_uri": "https://localhost:8080/",
          "height": 226
        },
        "id": "GAdKXcy0C2ty",
        "outputId": "6746046c-9833-4860-cb85-691d35275527"
      },
      "outputs": [
        {
          "data": {
            "text/html": [
              "<div>\n",
              "<style scoped>\n",
              "    .dataframe tbody tr th:only-of-type {\n",
              "        vertical-align: middle;\n",
              "    }\n",
              "\n",
              "    .dataframe tbody tr th {\n",
              "        vertical-align: top;\n",
              "    }\n",
              "\n",
              "    .dataframe thead th {\n",
              "        text-align: right;\n",
              "    }\n",
              "</style>\n",
              "<table border=\"1\" class=\"dataframe\">\n",
              "  <thead>\n",
              "    <tr style=\"text-align: right;\">\n",
              "      <th></th>\n",
              "      <th>CPU</th>\n",
              "      <th>R</th>\n",
              "      <th>Rx</th>\n",
              "      <th>NCPU</th>\n",
              "      <th>NCPUx</th>\n",
              "      <th>NRx</th>\n",
              "      <th>NTx</th>\n",
              "      <th>Pc</th>\n",
              "      <th>Tcpu1</th>\n",
              "      <th>Tcpu2</th>\n",
              "      <th>fs1</th>\n",
              "      <th>fs2</th>\n",
              "      <th>fs3</th>\n",
              "      <th>fs4</th>\n",
              "      <th>Tin</th>\n",
              "      <th>Nvm</th>\n",
              "    </tr>\n",
              "  </thead>\n",
              "  <tbody>\n",
              "    <tr>\n",
              "      <th>0</th>\n",
              "      <td>37.454012</td>\n",
              "      <td>61062</td>\n",
              "      <td>6992</td>\n",
              "      <td>8926</td>\n",
              "      <td>2</td>\n",
              "      <td>48</td>\n",
              "      <td>1806</td>\n",
              "      <td>1025</td>\n",
              "      <td>1288</td>\n",
              "      <td>2107</td>\n",
              "      <td>20.769461</td>\n",
              "      <td>2</td>\n",
              "      <td>23048.754573</td>\n",
              "      <td>58.727006</td>\n",
              "      <td>30.849479</td>\n",
              "      <td>30.869727</td>\n",
              "    </tr>\n",
              "    <tr>\n",
              "      <th>1</th>\n",
              "      <td>95.071431</td>\n",
              "      <td>61044</td>\n",
              "      <td>176</td>\n",
              "      <td>3546</td>\n",
              "      <td>8</td>\n",
              "      <td>3</td>\n",
              "      <td>2769</td>\n",
              "      <td>1169</td>\n",
              "      <td>2864</td>\n",
              "      <td>2900</td>\n",
              "      <td>17.694295</td>\n",
              "      <td>4</td>\n",
              "      <td>57993.403231</td>\n",
              "      <td>87.535715</td>\n",
              "      <td>38.753277</td>\n",
              "      <td>38.621455</td>\n",
              "    </tr>\n",
              "    <tr>\n",
              "      <th>2</th>\n",
              "      <td>73.199394</td>\n",
              "      <td>43451</td>\n",
              "      <td>4215</td>\n",
              "      <td>5082</td>\n",
              "      <td>14</td>\n",
              "      <td>16</td>\n",
              "      <td>2345</td>\n",
              "      <td>1636</td>\n",
              "      <td>2096</td>\n",
              "      <td>2581</td>\n",
              "      <td>23.647342</td>\n",
              "      <td>11</td>\n",
              "      <td>31728.034332</td>\n",
              "      <td>76.599697</td>\n",
              "      <td>37.566882</td>\n",
              "      <td>37.221435</td>\n",
              "    </tr>\n",
              "    <tr>\n",
              "      <th>3</th>\n",
              "      <td>59.865848</td>\n",
              "      <td>54070</td>\n",
              "      <td>7416</td>\n",
              "      <td>3353</td>\n",
              "      <td>15</td>\n",
              "      <td>12</td>\n",
              "      <td>2875</td>\n",
              "      <td>1163</td>\n",
              "      <td>1603</td>\n",
              "      <td>1609</td>\n",
              "      <td>19.918069</td>\n",
              "      <td>10</td>\n",
              "      <td>32410.122441</td>\n",
              "      <td>69.932924</td>\n",
              "      <td>37.336572</td>\n",
              "      <td>36.490269</td>\n",
              "    </tr>\n",
              "    <tr>\n",
              "      <th>4</th>\n",
              "      <td>15.601864</td>\n",
              "      <td>30565</td>\n",
              "      <td>3148</td>\n",
              "      <td>2246</td>\n",
              "      <td>9</td>\n",
              "      <td>17</td>\n",
              "      <td>2779</td>\n",
              "      <td>1781</td>\n",
              "      <td>2660</td>\n",
              "      <td>1813</td>\n",
              "      <td>23.399070</td>\n",
              "      <td>4</td>\n",
              "      <td>4802.043096</td>\n",
              "      <td>47.800932</td>\n",
              "      <td>31.752270</td>\n",
              "      <td>32.212161</td>\n",
              "    </tr>\n",
              "  </tbody>\n",
              "</table>\n",
              "</div>"
            ],
            "text/plain": [
              "         CPU      R    Rx  NCPU  NCPUx  NRx   NTx    Pc  Tcpu1  Tcpu2  \\\n",
              "0  37.454012  61062  6992  8926      2   48  1806  1025   1288   2107   \n",
              "1  95.071431  61044   176  3546      8    3  2769  1169   2864   2900   \n",
              "2  73.199394  43451  4215  5082     14   16  2345  1636   2096   2581   \n",
              "3  59.865848  54070  7416  3353     15   12  2875  1163   1603   1609   \n",
              "4  15.601864  30565  3148  2246      9   17  2779  1781   2660   1813   \n",
              "\n",
              "         fs1  fs2           fs3        fs4        Tin        Nvm  \n",
              "0  20.769461    2  23048.754573  58.727006  30.849479  30.869727  \n",
              "1  17.694295    4  57993.403231  87.535715  38.753277  38.621455  \n",
              "2  23.647342   11  31728.034332  76.599697  37.566882  37.221435  \n",
              "3  19.918069   10  32410.122441  69.932924  37.336572  36.490269  \n",
              "4  23.399070    4   4802.043096  47.800932  31.752270  32.212161  "
            ]
          },
          "execution_count": 3,
          "metadata": {},
          "output_type": "execute_result"
        }
      ],
      "source": [
        "dataset = pd.read_csv('./Datacenter_dataset.csv')\n",
        "\n",
        "dataset.head()"
      ]
    },
    {
      "cell_type": "code",
      "execution_count": 4,
      "metadata": {
        "colab": {
          "base_uri": "https://localhost:8080/"
        },
        "id": "toklbR_9C2tz",
        "outputId": "c1fdde47-e726-493b-ddb5-3fcfe0b3a6b0"
      },
      "outputs": [
        {
          "name": "stdout",
          "output_type": "stream",
          "text": [
            "<class 'pandas.core.frame.DataFrame'>\n",
            "RangeIndex: 100000 entries, 0 to 99999\n",
            "Data columns (total 16 columns):\n",
            " #   Column  Non-Null Count   Dtype  \n",
            "---  ------  --------------   -----  \n",
            " 0   CPU     100000 non-null  float64\n",
            " 1   R       100000 non-null  int64  \n",
            " 2   Rx      100000 non-null  int64  \n",
            " 3   NCPU    100000 non-null  int64  \n",
            " 4   NCPUx   100000 non-null  int64  \n",
            " 5   NRx     100000 non-null  int64  \n",
            " 6   NTx     100000 non-null  int64  \n",
            " 7   Pc      100000 non-null  int64  \n",
            " 8   Tcpu1   100000 non-null  int64  \n",
            " 9   Tcpu2   100000 non-null  int64  \n",
            " 10  fs1     100000 non-null  float64\n",
            " 11  fs2     100000 non-null  int64  \n",
            " 12  fs3     100000 non-null  float64\n",
            " 13  fs4     100000 non-null  float64\n",
            " 14  Tin     100000 non-null  float64\n",
            " 15  Nvm     100000 non-null  float64\n",
            "dtypes: float64(6), int64(10)\n",
            "memory usage: 12.2 MB\n"
          ]
        }
      ],
      "source": [
        "dataset.info()"
      ]
    },
    {
      "cell_type": "code",
      "execution_count": 5,
      "metadata": {
        "colab": {
          "base_uri": "https://localhost:8080/",
          "height": 320
        },
        "id": "xEuQlmnDC2t0",
        "outputId": "87116a9f-566e-4afc-f8df-fddd4326e3cf"
      },
      "outputs": [
        {
          "data": {
            "text/html": [
              "<div>\n",
              "<style scoped>\n",
              "    .dataframe tbody tr th:only-of-type {\n",
              "        vertical-align: middle;\n",
              "    }\n",
              "\n",
              "    .dataframe tbody tr th {\n",
              "        vertical-align: top;\n",
              "    }\n",
              "\n",
              "    .dataframe thead th {\n",
              "        text-align: right;\n",
              "    }\n",
              "</style>\n",
              "<table border=\"1\" class=\"dataframe\">\n",
              "  <thead>\n",
              "    <tr style=\"text-align: right;\">\n",
              "      <th></th>\n",
              "      <th>CPU</th>\n",
              "      <th>R</th>\n",
              "      <th>Rx</th>\n",
              "      <th>NCPU</th>\n",
              "      <th>NCPUx</th>\n",
              "      <th>NRx</th>\n",
              "      <th>NTx</th>\n",
              "      <th>Pc</th>\n",
              "      <th>Tcpu1</th>\n",
              "      <th>Tcpu2</th>\n",
              "      <th>fs1</th>\n",
              "      <th>fs2</th>\n",
              "      <th>fs3</th>\n",
              "      <th>fs4</th>\n",
              "      <th>Tin</th>\n",
              "      <th>Nvm</th>\n",
              "    </tr>\n",
              "  </thead>\n",
              "  <tbody>\n",
              "    <tr>\n",
              "      <th>count</th>\n",
              "      <td>100000.000000</td>\n",
              "      <td>100000.000000</td>\n",
              "      <td>100000.000000</td>\n",
              "      <td>100000.000000</td>\n",
              "      <td>100000.000000</td>\n",
              "      <td>100000.000000</td>\n",
              "      <td>100000.00000</td>\n",
              "      <td>100000.000000</td>\n",
              "      <td>100000.000000</td>\n",
              "      <td>100000.000000</td>\n",
              "      <td>100000.000000</td>\n",
              "      <td>100000.000000</td>\n",
              "      <td>100000.000000</td>\n",
              "      <td>100000.000000</td>\n",
              "      <td>100000.000000</td>\n",
              "      <td>100000.000000</td>\n",
              "    </tr>\n",
              "    <tr>\n",
              "      <th>mean</th>\n",
              "      <td>49.948825</td>\n",
              "      <td>33352.519230</td>\n",
              "      <td>5011.002700</td>\n",
              "      <td>5001.699730</td>\n",
              "      <td>7.962080</td>\n",
              "      <td>25.035720</td>\n",
              "      <td>1998.49830</td>\n",
              "      <td>2000.005530</td>\n",
              "      <td>2002.812180</td>\n",
              "      <td>1999.908440</td>\n",
              "      <td>20.006515</td>\n",
              "      <td>4.477750</td>\n",
              "      <td>16682.004282</td>\n",
              "      <td>64.974413</td>\n",
              "      <td>34.991287</td>\n",
              "      <td>34.992484</td>\n",
              "    </tr>\n",
              "    <tr>\n",
              "      <th>std</th>\n",
              "      <td>28.834145</td>\n",
              "      <td>18644.535662</td>\n",
              "      <td>2889.051078</td>\n",
              "      <td>2891.285744</td>\n",
              "      <td>4.317327</td>\n",
              "      <td>14.119931</td>\n",
              "      <td>578.52867</td>\n",
              "      <td>577.932105</td>\n",
              "      <td>577.245192</td>\n",
              "      <td>577.420863</td>\n",
              "      <td>1.988472</td>\n",
              "      <td>3.389445</td>\n",
              "      <td>14464.131841</td>\n",
              "      <td>14.417072</td>\n",
              "      <td>3.050689</td>\n",
              "      <td>3.212713</td>\n",
              "    </tr>\n",
              "    <tr>\n",
              "      <th>min</th>\n",
              "      <td>0.000554</td>\n",
              "      <td>1025.000000</td>\n",
              "      <td>0.000000</td>\n",
              "      <td>0.000000</td>\n",
              "      <td>1.000000</td>\n",
              "      <td>1.000000</td>\n",
              "      <td>1000.00000</td>\n",
              "      <td>1000.000000</td>\n",
              "      <td>1000.000000</td>\n",
              "      <td>1000.000000</td>\n",
              "      <td>15.000000</td>\n",
              "      <td>1.000000</td>\n",
              "      <td>0.000000</td>\n",
              "      <td>40.000277</td>\n",
              "      <td>26.010262</td>\n",
              "      <td>25.023684</td>\n",
              "    </tr>\n",
              "    <tr>\n",
              "      <th>25%</th>\n",
              "      <td>24.954604</td>\n",
              "      <td>17175.000000</td>\n",
              "      <td>2513.000000</td>\n",
              "      <td>2485.000000</td>\n",
              "      <td>4.000000</td>\n",
              "      <td>13.000000</td>\n",
              "      <td>1495.00000</td>\n",
              "      <td>1499.000000</td>\n",
              "      <td>1505.000000</td>\n",
              "      <td>1500.000000</td>\n",
              "      <td>18.653629</td>\n",
              "      <td>2.000000</td>\n",
              "      <td>4689.320216</td>\n",
              "      <td>52.477302</td>\n",
              "      <td>32.497961</td>\n",
              "      <td>32.478079</td>\n",
              "    </tr>\n",
              "    <tr>\n",
              "      <th>50%</th>\n",
              "      <td>50.062978</td>\n",
              "      <td>33355.000000</td>\n",
              "      <td>5017.000000</td>\n",
              "      <td>5010.000000</td>\n",
              "      <td>8.000000</td>\n",
              "      <td>25.000000</td>\n",
              "      <td>2000.00000</td>\n",
              "      <td>2000.000000</td>\n",
              "      <td>2003.000000</td>\n",
              "      <td>2000.000000</td>\n",
              "      <td>20.005103</td>\n",
              "      <td>3.000000</td>\n",
              "      <td>12571.558250</td>\n",
              "      <td>65.031489</td>\n",
              "      <td>34.998904</td>\n",
              "      <td>34.991192</td>\n",
              "    </tr>\n",
              "    <tr>\n",
              "      <th>75%</th>\n",
              "      <td>74.951373</td>\n",
              "      <td>49541.250000</td>\n",
              "      <td>7515.000000</td>\n",
              "      <td>7507.000000</td>\n",
              "      <td>12.000000</td>\n",
              "      <td>37.000000</td>\n",
              "      <td>2500.00000</td>\n",
              "      <td>2500.000000</td>\n",
              "      <td>2504.000000</td>\n",
              "      <td>2499.000000</td>\n",
              "      <td>21.343995</td>\n",
              "      <td>7.000000</td>\n",
              "      <td>25499.126032</td>\n",
              "      <td>77.475687</td>\n",
              "      <td>37.493758</td>\n",
              "      <td>37.512723</td>\n",
              "    </tr>\n",
              "    <tr>\n",
              "      <th>max</th>\n",
              "      <td>99.999204</td>\n",
              "      <td>65535.000000</td>\n",
              "      <td>9999.000000</td>\n",
              "      <td>9999.000000</td>\n",
              "      <td>15.000000</td>\n",
              "      <td>49.000000</td>\n",
              "      <td>2999.00000</td>\n",
              "      <td>2999.000000</td>\n",
              "      <td>2999.000000</td>\n",
              "      <td>2999.000000</td>\n",
              "      <td>29.242658</td>\n",
              "      <td>15.000000</td>\n",
              "      <td>65503.000000</td>\n",
              "      <td>89.999602</td>\n",
              "      <td>43.072779</td>\n",
              "      <td>45.770208</td>\n",
              "    </tr>\n",
              "  </tbody>\n",
              "</table>\n",
              "</div>"
            ],
            "text/plain": [
              "                 CPU              R             Rx           NCPU  \\\n",
              "count  100000.000000  100000.000000  100000.000000  100000.000000   \n",
              "mean       49.948825   33352.519230    5011.002700    5001.699730   \n",
              "std        28.834145   18644.535662    2889.051078    2891.285744   \n",
              "min         0.000554    1025.000000       0.000000       0.000000   \n",
              "25%        24.954604   17175.000000    2513.000000    2485.000000   \n",
              "50%        50.062978   33355.000000    5017.000000    5010.000000   \n",
              "75%        74.951373   49541.250000    7515.000000    7507.000000   \n",
              "max        99.999204   65535.000000    9999.000000    9999.000000   \n",
              "\n",
              "               NCPUx            NRx           NTx             Pc  \\\n",
              "count  100000.000000  100000.000000  100000.00000  100000.000000   \n",
              "mean        7.962080      25.035720    1998.49830    2000.005530   \n",
              "std         4.317327      14.119931     578.52867     577.932105   \n",
              "min         1.000000       1.000000    1000.00000    1000.000000   \n",
              "25%         4.000000      13.000000    1495.00000    1499.000000   \n",
              "50%         8.000000      25.000000    2000.00000    2000.000000   \n",
              "75%        12.000000      37.000000    2500.00000    2500.000000   \n",
              "max        15.000000      49.000000    2999.00000    2999.000000   \n",
              "\n",
              "               Tcpu1          Tcpu2            fs1            fs2  \\\n",
              "count  100000.000000  100000.000000  100000.000000  100000.000000   \n",
              "mean     2002.812180    1999.908440      20.006515       4.477750   \n",
              "std       577.245192     577.420863       1.988472       3.389445   \n",
              "min      1000.000000    1000.000000      15.000000       1.000000   \n",
              "25%      1505.000000    1500.000000      18.653629       2.000000   \n",
              "50%      2003.000000    2000.000000      20.005103       3.000000   \n",
              "75%      2504.000000    2499.000000      21.343995       7.000000   \n",
              "max      2999.000000    2999.000000      29.242658      15.000000   \n",
              "\n",
              "                 fs3            fs4            Tin            Nvm  \n",
              "count  100000.000000  100000.000000  100000.000000  100000.000000  \n",
              "mean    16682.004282      64.974413      34.991287      34.992484  \n",
              "std     14464.131841      14.417072       3.050689       3.212713  \n",
              "min         0.000000      40.000277      26.010262      25.023684  \n",
              "25%      4689.320216      52.477302      32.497961      32.478079  \n",
              "50%     12571.558250      65.031489      34.998904      34.991192  \n",
              "75%     25499.126032      77.475687      37.493758      37.512723  \n",
              "max     65503.000000      89.999602      43.072779      45.770208  "
            ]
          },
          "execution_count": 5,
          "metadata": {},
          "output_type": "execute_result"
        }
      ],
      "source": [
        "dataset.describe()"
      ]
    },
    {
      "cell_type": "code",
      "execution_count": 6,
      "metadata": {
        "id": "6aVr_ceoC2t0"
      },
      "outputs": [],
      "source": [
        "# Find Ambient Temperature\n",
        "dataset['Tamb'] = (dataset['Tin'] + (((dataset['Tcpu1']+dataset['Tcpu2'])/2) - dataset['Tin'])) * 0.5"
      ]
    },
    {
      "cell_type": "code",
      "execution_count": 7,
      "metadata": {
        "colab": {
          "base_uri": "https://localhost:8080/",
          "height": 226
        },
        "id": "MOEqBUseC2t0",
        "outputId": "1653a522-fa19-4b13-a379-08b313235663"
      },
      "outputs": [
        {
          "data": {
            "text/html": [
              "<div>\n",
              "<style scoped>\n",
              "    .dataframe tbody tr th:only-of-type {\n",
              "        vertical-align: middle;\n",
              "    }\n",
              "\n",
              "    .dataframe tbody tr th {\n",
              "        vertical-align: top;\n",
              "    }\n",
              "\n",
              "    .dataframe thead th {\n",
              "        text-align: right;\n",
              "    }\n",
              "</style>\n",
              "<table border=\"1\" class=\"dataframe\">\n",
              "  <thead>\n",
              "    <tr style=\"text-align: right;\">\n",
              "      <th></th>\n",
              "      <th>CPU</th>\n",
              "      <th>R</th>\n",
              "      <th>Rx</th>\n",
              "      <th>NCPU</th>\n",
              "      <th>NCPUx</th>\n",
              "      <th>NRx</th>\n",
              "      <th>NTx</th>\n",
              "      <th>Pc</th>\n",
              "      <th>Tcpu1</th>\n",
              "      <th>Tcpu2</th>\n",
              "      <th>fs1</th>\n",
              "      <th>fs2</th>\n",
              "      <th>fs3</th>\n",
              "      <th>fs4</th>\n",
              "      <th>Tin</th>\n",
              "      <th>Nvm</th>\n",
              "      <th>Tamb</th>\n",
              "    </tr>\n",
              "  </thead>\n",
              "  <tbody>\n",
              "    <tr>\n",
              "      <th>0</th>\n",
              "      <td>37.454012</td>\n",
              "      <td>61062</td>\n",
              "      <td>6992</td>\n",
              "      <td>8926</td>\n",
              "      <td>2</td>\n",
              "      <td>48</td>\n",
              "      <td>1806</td>\n",
              "      <td>1025</td>\n",
              "      <td>1288</td>\n",
              "      <td>2107</td>\n",
              "      <td>20.769461</td>\n",
              "      <td>2</td>\n",
              "      <td>23048.754573</td>\n",
              "      <td>58.727006</td>\n",
              "      <td>30.849479</td>\n",
              "      <td>30.869727</td>\n",
              "      <td>848.75</td>\n",
              "    </tr>\n",
              "    <tr>\n",
              "      <th>1</th>\n",
              "      <td>95.071431</td>\n",
              "      <td>61044</td>\n",
              "      <td>176</td>\n",
              "      <td>3546</td>\n",
              "      <td>8</td>\n",
              "      <td>3</td>\n",
              "      <td>2769</td>\n",
              "      <td>1169</td>\n",
              "      <td>2864</td>\n",
              "      <td>2900</td>\n",
              "      <td>17.694295</td>\n",
              "      <td>4</td>\n",
              "      <td>57993.403231</td>\n",
              "      <td>87.535715</td>\n",
              "      <td>38.753277</td>\n",
              "      <td>38.621455</td>\n",
              "      <td>1441.00</td>\n",
              "    </tr>\n",
              "    <tr>\n",
              "      <th>2</th>\n",
              "      <td>73.199394</td>\n",
              "      <td>43451</td>\n",
              "      <td>4215</td>\n",
              "      <td>5082</td>\n",
              "      <td>14</td>\n",
              "      <td>16</td>\n",
              "      <td>2345</td>\n",
              "      <td>1636</td>\n",
              "      <td>2096</td>\n",
              "      <td>2581</td>\n",
              "      <td>23.647342</td>\n",
              "      <td>11</td>\n",
              "      <td>31728.034332</td>\n",
              "      <td>76.599697</td>\n",
              "      <td>37.566882</td>\n",
              "      <td>37.221435</td>\n",
              "      <td>1169.25</td>\n",
              "    </tr>\n",
              "    <tr>\n",
              "      <th>3</th>\n",
              "      <td>59.865848</td>\n",
              "      <td>54070</td>\n",
              "      <td>7416</td>\n",
              "      <td>3353</td>\n",
              "      <td>15</td>\n",
              "      <td>12</td>\n",
              "      <td>2875</td>\n",
              "      <td>1163</td>\n",
              "      <td>1603</td>\n",
              "      <td>1609</td>\n",
              "      <td>19.918069</td>\n",
              "      <td>10</td>\n",
              "      <td>32410.122441</td>\n",
              "      <td>69.932924</td>\n",
              "      <td>37.336572</td>\n",
              "      <td>36.490269</td>\n",
              "      <td>803.00</td>\n",
              "    </tr>\n",
              "    <tr>\n",
              "      <th>4</th>\n",
              "      <td>15.601864</td>\n",
              "      <td>30565</td>\n",
              "      <td>3148</td>\n",
              "      <td>2246</td>\n",
              "      <td>9</td>\n",
              "      <td>17</td>\n",
              "      <td>2779</td>\n",
              "      <td>1781</td>\n",
              "      <td>2660</td>\n",
              "      <td>1813</td>\n",
              "      <td>23.399070</td>\n",
              "      <td>4</td>\n",
              "      <td>4802.043096</td>\n",
              "      <td>47.800932</td>\n",
              "      <td>31.752270</td>\n",
              "      <td>32.212161</td>\n",
              "      <td>1118.25</td>\n",
              "    </tr>\n",
              "  </tbody>\n",
              "</table>\n",
              "</div>"
            ],
            "text/plain": [
              "         CPU      R    Rx  NCPU  NCPUx  NRx   NTx    Pc  Tcpu1  Tcpu2  \\\n",
              "0  37.454012  61062  6992  8926      2   48  1806  1025   1288   2107   \n",
              "1  95.071431  61044   176  3546      8    3  2769  1169   2864   2900   \n",
              "2  73.199394  43451  4215  5082     14   16  2345  1636   2096   2581   \n",
              "3  59.865848  54070  7416  3353     15   12  2875  1163   1603   1609   \n",
              "4  15.601864  30565  3148  2246      9   17  2779  1781   2660   1813   \n",
              "\n",
              "         fs1  fs2           fs3        fs4        Tin        Nvm     Tamb  \n",
              "0  20.769461    2  23048.754573  58.727006  30.849479  30.869727   848.75  \n",
              "1  17.694295    4  57993.403231  87.535715  38.753277  38.621455  1441.00  \n",
              "2  23.647342   11  31728.034332  76.599697  37.566882  37.221435  1169.25  \n",
              "3  19.918069   10  32410.122441  69.932924  37.336572  36.490269   803.00  \n",
              "4  23.399070    4   4802.043096  47.800932  31.752270  32.212161  1118.25  "
            ]
          },
          "execution_count": 7,
          "metadata": {},
          "output_type": "execute_result"
        }
      ],
      "source": [
        "dataset.head()"
      ]
    },
    {
      "cell_type": "code",
      "execution_count": 8,
      "metadata": {
        "id": "Cjyw8rLeC2t1"
      },
      "outputs": [],
      "source": [
        "dataset.drop(columns=['Tcpu1','Tcpu2','Tin'], inplace=True,axis=1)"
      ]
    },
    {
      "cell_type": "code",
      "execution_count": 9,
      "metadata": {
        "colab": {
          "base_uri": "https://localhost:8080/",
          "height": 226
        },
        "id": "oYvt4egBC2t1",
        "outputId": "ccca057c-c4ce-43f9-9921-48f190b0859f"
      },
      "outputs": [
        {
          "data": {
            "text/html": [
              "<div>\n",
              "<style scoped>\n",
              "    .dataframe tbody tr th:only-of-type {\n",
              "        vertical-align: middle;\n",
              "    }\n",
              "\n",
              "    .dataframe tbody tr th {\n",
              "        vertical-align: top;\n",
              "    }\n",
              "\n",
              "    .dataframe thead th {\n",
              "        text-align: right;\n",
              "    }\n",
              "</style>\n",
              "<table border=\"1\" class=\"dataframe\">\n",
              "  <thead>\n",
              "    <tr style=\"text-align: right;\">\n",
              "      <th></th>\n",
              "      <th>CPU</th>\n",
              "      <th>R</th>\n",
              "      <th>Rx</th>\n",
              "      <th>NCPU</th>\n",
              "      <th>NCPUx</th>\n",
              "      <th>NRx</th>\n",
              "      <th>NTx</th>\n",
              "      <th>Pc</th>\n",
              "      <th>fs1</th>\n",
              "      <th>fs2</th>\n",
              "      <th>fs3</th>\n",
              "      <th>fs4</th>\n",
              "      <th>Nvm</th>\n",
              "      <th>Tamb</th>\n",
              "    </tr>\n",
              "  </thead>\n",
              "  <tbody>\n",
              "    <tr>\n",
              "      <th>0</th>\n",
              "      <td>37.454012</td>\n",
              "      <td>61062</td>\n",
              "      <td>6992</td>\n",
              "      <td>8926</td>\n",
              "      <td>2</td>\n",
              "      <td>48</td>\n",
              "      <td>1806</td>\n",
              "      <td>1025</td>\n",
              "      <td>20.769461</td>\n",
              "      <td>2</td>\n",
              "      <td>23048.754573</td>\n",
              "      <td>58.727006</td>\n",
              "      <td>30.869727</td>\n",
              "      <td>848.75</td>\n",
              "    </tr>\n",
              "    <tr>\n",
              "      <th>1</th>\n",
              "      <td>95.071431</td>\n",
              "      <td>61044</td>\n",
              "      <td>176</td>\n",
              "      <td>3546</td>\n",
              "      <td>8</td>\n",
              "      <td>3</td>\n",
              "      <td>2769</td>\n",
              "      <td>1169</td>\n",
              "      <td>17.694295</td>\n",
              "      <td>4</td>\n",
              "      <td>57993.403231</td>\n",
              "      <td>87.535715</td>\n",
              "      <td>38.621455</td>\n",
              "      <td>1441.00</td>\n",
              "    </tr>\n",
              "    <tr>\n",
              "      <th>2</th>\n",
              "      <td>73.199394</td>\n",
              "      <td>43451</td>\n",
              "      <td>4215</td>\n",
              "      <td>5082</td>\n",
              "      <td>14</td>\n",
              "      <td>16</td>\n",
              "      <td>2345</td>\n",
              "      <td>1636</td>\n",
              "      <td>23.647342</td>\n",
              "      <td>11</td>\n",
              "      <td>31728.034332</td>\n",
              "      <td>76.599697</td>\n",
              "      <td>37.221435</td>\n",
              "      <td>1169.25</td>\n",
              "    </tr>\n",
              "    <tr>\n",
              "      <th>3</th>\n",
              "      <td>59.865848</td>\n",
              "      <td>54070</td>\n",
              "      <td>7416</td>\n",
              "      <td>3353</td>\n",
              "      <td>15</td>\n",
              "      <td>12</td>\n",
              "      <td>2875</td>\n",
              "      <td>1163</td>\n",
              "      <td>19.918069</td>\n",
              "      <td>10</td>\n",
              "      <td>32410.122441</td>\n",
              "      <td>69.932924</td>\n",
              "      <td>36.490269</td>\n",
              "      <td>803.00</td>\n",
              "    </tr>\n",
              "    <tr>\n",
              "      <th>4</th>\n",
              "      <td>15.601864</td>\n",
              "      <td>30565</td>\n",
              "      <td>3148</td>\n",
              "      <td>2246</td>\n",
              "      <td>9</td>\n",
              "      <td>17</td>\n",
              "      <td>2779</td>\n",
              "      <td>1781</td>\n",
              "      <td>23.399070</td>\n",
              "      <td>4</td>\n",
              "      <td>4802.043096</td>\n",
              "      <td>47.800932</td>\n",
              "      <td>32.212161</td>\n",
              "      <td>1118.25</td>\n",
              "    </tr>\n",
              "  </tbody>\n",
              "</table>\n",
              "</div>"
            ],
            "text/plain": [
              "         CPU      R    Rx  NCPU  NCPUx  NRx   NTx    Pc        fs1  fs2  \\\n",
              "0  37.454012  61062  6992  8926      2   48  1806  1025  20.769461    2   \n",
              "1  95.071431  61044   176  3546      8    3  2769  1169  17.694295    4   \n",
              "2  73.199394  43451  4215  5082     14   16  2345  1636  23.647342   11   \n",
              "3  59.865848  54070  7416  3353     15   12  2875  1163  19.918069   10   \n",
              "4  15.601864  30565  3148  2246      9   17  2779  1781  23.399070    4   \n",
              "\n",
              "            fs3        fs4        Nvm     Tamb  \n",
              "0  23048.754573  58.727006  30.869727   848.75  \n",
              "1  57993.403231  87.535715  38.621455  1441.00  \n",
              "2  31728.034332  76.599697  37.221435  1169.25  \n",
              "3  32410.122441  69.932924  36.490269   803.00  \n",
              "4   4802.043096  47.800932  32.212161  1118.25  "
            ]
          },
          "execution_count": 9,
          "metadata": {},
          "output_type": "execute_result"
        }
      ],
      "source": [
        "dataset.head()"
      ]
    },
    {
      "cell_type": "code",
      "execution_count": 10,
      "metadata": {
        "colab": {
          "base_uri": "https://localhost:8080/"
        },
        "id": "jRgeyCGqC2t1",
        "outputId": "6cbbf3f3-8f82-49e8-a57e-7398c55387e4"
      },
      "outputs": [
        {
          "data": {
            "text/plain": [
              "(100000, 14)"
            ]
          },
          "execution_count": 10,
          "metadata": {},
          "output_type": "execute_result"
        }
      ],
      "source": [
        "dataset.shape"
      ]
    },
    {
      "cell_type": "code",
      "execution_count": 11,
      "metadata": {},
      "outputs": [
        {
          "data": {
            "image/png": "[encoded data removed]",
            "text/plain": [
              "<Figure size 1200x1000 with 2 Axes>"
            ]
          },
          "metadata": {},
          "output_type": "display_data"
        }
      ],
      "source": [
        "# Set the size of the plot\n",
        "plt.figure(figsize=(12, 10))\n",
        "\n",
        "# Create a heatmap\n",
        "sns.heatmap(dataset.corr(), annot=True, fmt='.2f', cmap='coolwarm', square=True, cbar_kws={\"shrink\": .8})\n",
        "\n",
        "# Set title\n",
        "plt.title('Correlation Matrix Heatmap')\n",
        "\n",
        "# Show the plot\n",
        "plt.show()"
      ]
    },
    {
      "cell_type": "code",
      "execution_count": 12,
      "metadata": {
        "id": "PZAVWHIyC2t2"
      },
      "outputs": [],
      "source": [
        "# preprocessing the data\n",
        "from sklearn.preprocessing import MinMaxScaler\n",
        "scaler = MinMaxScaler(feature_range=(0,1))"
      ]
    },
    {
      "cell_type": "code",
      "execution_count": 13,
      "metadata": {
        "id": "AQcO56v6C2t2"
      },
      "outputs": [],
      "source": [
        "scaled_data = scaler.fit_transform(dataset)"
      ]
    },
    {
      "cell_type": "code",
      "execution_count": 14,
      "metadata": {
        "colab": {
          "base_uri": "https://localhost:8080/"
        },
        "id": "SJDB5GyFC2t2",
        "outputId": "0f817faa-ad3f-4acb-b273-b64cb35445c2"
      },
      "outputs": [
        {
          "data": {
            "text/plain": [
              "array([[0.37453964, 0.93066191, 0.69926993, ..., 0.37453964, 0.28178421,\n",
              "        0.34856856],\n",
              "       [0.9507216 , 0.93038289, 0.01760176, ..., 0.9507216 , 0.65542409,\n",
              "        0.94349573],\n",
              "       [0.73199828, 0.65766548, 0.42154215, ..., 0.73199828, 0.58794195,\n",
              "        0.67051733],\n",
              "       ...,\n",
              "       [0.67445697, 0.2115331 , 0.29362936, ..., 0.67445697, 0.52111572,\n",
              "        0.81089905],\n",
              "       [0.49944845, 0.82656952, 0.86928693, ..., 0.49944845, 0.45682726,\n",
              "        0.88548468],\n",
              "       [0.38990821, 0.56507518, 0.71147115, ..., 0.38990821, 0.52498913,\n",
              "        0.61577097]])"
            ]
          },
          "execution_count": 14,
          "metadata": {},
          "output_type": "execute_result"
        }
      ],
      "source": [
        "scaled_data"
      ]
    },
    {
      "cell_type": "code",
      "execution_count": 15,
      "metadata": {
        "colab": {
          "base_uri": "https://localhost:8080/"
        },
        "id": "RFsLyTc_C2t2",
        "outputId": "7fdf0145-1f34-4a21-970c-fb3fcbe7a24c"
      },
      "outputs": [
        {
          "data": {
            "text/plain": [
              "(80000, 20000)"
            ]
          },
          "execution_count": 15,
          "metadata": {},
          "output_type": "execute_result"
        }
      ],
      "source": [
        "# train & test data splitting\n",
        "\n",
        "train_size = int(len(scaled_data)*0.8)\n",
        "test_size = len(scaled_data) - train_size\n",
        "\n",
        "train_size, test_size"
      ]
    },
    {
      "cell_type": "code",
      "execution_count": 16,
      "metadata": {
        "id": "6y4VmsFUC2t3"
      },
      "outputs": [],
      "source": [
        "train_data, test_data = scaled_data[0:train_size, :], scaled_data[train_size:len(scaled_data), :]"
      ]
    },
    {
      "cell_type": "code",
      "execution_count": 17,
      "metadata": {
        "colab": {
          "base_uri": "https://localhost:8080/"
        },
        "id": "Xuxqcu3nC2t3",
        "outputId": "8fcb1fae-4b40-47a1-b44b-96b04791ff82"
      },
      "outputs": [
        {
          "data": {
            "text/plain": [
              "((79900, 100, 14), (79900, 1))"
            ]
          },
          "execution_count": 17,
          "metadata": {},
          "output_type": "execute_result"
        }
      ],
      "source": [
        "train_X = []\n",
        "train_Y = []\n",
        "\n",
        "n_future = 1\n",
        "n_past = 100\n",
        "\n",
        "\n",
        "for i in range(n_past, len(train_data)-n_future+1):\n",
        "    train_X.append(train_data[i-n_past:i, 0:train_data.shape[1]])\n",
        "    train_Y.append(train_data[i+n_future-1:i+n_future,0])\n",
        "\n",
        "train_X, train_Y = np.array(train_X), np.array(train_Y)\n",
        "\n",
        "train_X.shape, train_Y.shape"
      ]
    },
    {
      "cell_type": "code",
      "execution_count": 18,
      "metadata": {
        "colab": {
          "base_uri": "https://localhost:8080/"
        },
        "id": "hl3-DHpMC2t3",
        "outputId": "ace87bac-2008-4ffe-d796-cd988a75891e"
      },
      "outputs": [
        {
          "data": {
            "text/plain": [
              "((19980, 20, 14), (19980, 1))"
            ]
          },
          "execution_count": 18,
          "metadata": {},
          "output_type": "execute_result"
        }
      ],
      "source": [
        "test_X = []\n",
        "test_Y = []\n",
        "\n",
        "n_future = 1\n",
        "n_past = 20\n",
        "\n",
        "\n",
        "for i in range(n_past, len(test_data)-n_future+1):\n",
        "    test_X.append(test_data[i-n_past:i, 0:test_data.shape[1]])\n",
        "    test_Y.append(test_data[i+n_future-1:i+n_future,0])\n",
        "\n",
        "test_X, test_Y = np.array(test_X), np.array(test_Y)\n",
        "\n",
        "test_X.shape, test_Y.shape"
      ]
    },
    {
      "cell_type": "markdown",
      "metadata": {
        "id": "ozbxQdR2C2t4"
      },
      "source": [
        "Build LSTM Multi Variant Model"
      ]
    },
    {
      "cell_type": "code",
      "execution_count": 19,
      "metadata": {
        "id": "vtHY3p7cC2t4"
      },
      "outputs": [],
      "source": [
        "# create LSTM model\n",
        "from tensorflow.keras.models import Sequential\n",
        "from tensorflow.keras.layers import Dense, LSTM, Dropout\n",
        "from tensorflow.keras.callbacks import EarlyStopping\n",
        "from tensorflow.keras.optimizers import Adam"
      ]
    },
    {
      "cell_type": "code",
      "execution_count": 20,
      "metadata": {
        "colab": {
          "base_uri": "https://localhost:8080/"
        },
        "id": "wWCFLLHWC2t5",
        "outputId": "d8408ebe-7507-4c52-abbe-4c6c5caec0ac"
      },
      "outputs": [
        {
          "name": "stderr",
          "output_type": "stream",
          "text": [
            "c:\\Users\\USER\\AppData\\Local\\Programs\\Python\\Python310\\lib\\site-packages\\keras\\src\\layers\\rnn\\rnn.py:204: UserWarning: Do not pass an `input_shape`/`input_dim` argument to a layer. When using Sequential models, prefer using an `Input(shape)` object as the first layer in the model instead.\n",
            "  super().__init__(**kwargs)\n"
          ]
        }
      ],
      "source": [
        "model = Sequential()\n",
        "\n",
        "model.add(LSTM(units = 64,activation='relu', return_sequences=True, input_shape = (train_X.shape[1],train_X.shape[2])))\n",
        "model.add(Dropout(0.2))\n",
        "\n",
        "model.add(LSTM(units = 32,activation='relu'))\n",
        "model.add(Dropout(0.3))\n",
        "\n",
        "model.add(Dense(units = 1))"
      ]
    },
    {
      "cell_type": "code",
      "execution_count": 21,
      "metadata": {
        "id": "Hs7v-12-C2t5"
      },
      "outputs": [],
      "source": [
        "model.compile(optimizer = Adam(learning_rate = 0.001), loss = 'mean_squared_error')"
      ]
    },
    {
      "cell_type": "code",
      "execution_count": 22,
      "metadata": {
        "colab": {
          "base_uri": "https://localhost:8080/",
          "height": 289
        },
        "id": "J5sKi7IhC2t5",
        "outputId": "1938a9de-2172-4fac-d56f-4d302ad77778"
      },
      "outputs": [
        {
          "data": {
            "text/html": [
              "<pre style=\"white-space:pre;overflow-x:auto;line-height:normal;font-family:Menlo,'DejaVu Sans Mono',consolas,'Courier New',monospace\"><span style=\"font-weight: bold\">Model: \"sequential\"</span>\n",
              "</pre>\n"
            ],
            "text/plain": [
              "\u001b[1mModel: \"sequential\"\u001b[0m\n"
            ]
          },
          "metadata": {},
          "output_type": "display_data"
        },
        {
          "data": {
            "text/html": [
              "<pre style=\"white-space:pre;overflow-x:auto;line-height:normal;font-family:Menlo,'DejaVu Sans Mono',consolas,'Courier New',monospace\">┏━━━━━━━━━━━━━━━━━━━━━━━━━━━━━━━━━┳━━━━━━━━━━━━━━━━━━━━━━━━┳━━━━━━━━━━━━━━━┓\n",
              "┃<span style=\"font-weight: bold\"> Layer (type)                    </span>┃<span style=\"font-weight: bold\"> Output Shape           </span>┃<span style=\"font-weight: bold\">       Param # </span>┃\n",
              "┡━━━━━━━━━━━━━━━━━━━━━━━━━━━━━━━━━╇━━━━━━━━━━━━━━━━━━━━━━━━╇━━━━━━━━━━━━━━━┩\n",
              "│ lstm (<span style=\"color: #0087ff; text-decoration-color: #0087ff\">LSTM</span>)                     │ (<span style=\"color: #00d7ff; text-decoration-color: #00d7ff\">None</span>, <span style=\"color: #00af00; text-decoration-color: #00af00\">100</span>, <span style=\"color: #00af00; text-decoration-color: #00af00\">64</span>)        │        <span style=\"color: #00af00; text-decoration-color: #00af00\">20,224</span> │\n",
              "├─────────────────────────────────┼────────────────────────┼───────────────┤\n",
              "│ dropout (<span style=\"color: #0087ff; text-decoration-color: #0087ff\">Dropout</span>)               │ (<span style=\"color: #00d7ff; text-decoration-color: #00d7ff\">None</span>, <span style=\"color: #00af00; text-decoration-color: #00af00\">100</span>, <span style=\"color: #00af00; text-decoration-color: #00af00\">64</span>)        │             <span style=\"color: #00af00; text-decoration-color: #00af00\">0</span> │\n",
              "├─────────────────────────────────┼────────────────────────┼───────────────┤\n",
              "│ lstm_1 (<span style=\"color: #0087ff; text-decoration-color: #0087ff\">LSTM</span>)                   │ (<span style=\"color: #00d7ff; text-decoration-color: #00d7ff\">None</span>, <span style=\"color: #00af00; text-decoration-color: #00af00\">32</span>)             │        <span style=\"color: #00af00; text-decoration-color: #00af00\">12,416</span> │\n",
              "├─────────────────────────────────┼────────────────────────┼───────────────┤\n",
              "│ dropout_1 (<span style=\"color: #0087ff; text-decoration-color: #0087ff\">Dropout</span>)             │ (<span style=\"color: #00d7ff; text-decoration-color: #00d7ff\">None</span>, <span style=\"color: #00af00; text-decoration-color: #00af00\">32</span>)             │             <span style=\"color: #00af00; text-decoration-color: #00af00\">0</span> │\n",
              "├─────────────────────────────────┼────────────────────────┼───────────────┤\n",
              "│ dense (<span style=\"color: #0087ff; text-decoration-color: #0087ff\">Dense</span>)                   │ (<span style=\"color: #00d7ff; text-decoration-color: #00d7ff\">None</span>, <span style=\"color: #00af00; text-decoration-color: #00af00\">1</span>)              │            <span style=\"color: #00af00; text-decoration-color: #00af00\">33</span> │\n",
              "└─────────────────────────────────┴────────────────────────┴───────────────┘\n",
              "</pre>\n"
            ],
            "text/plain": [
              "┏━━━━━━━━━━━━━━━━━━━━━━━━━━━━━━━━━┳━━━━━━━━━━━━━━━━━━━━━━━━┳━━━━━━━━━━━━━━━┓\n",
              "┃\u001b[1m \u001b[0m\u001b[1mLayer (type)                   \u001b[0m\u001b[1m \u001b[0m┃\u001b[1m \u001b[0m\u001b[1mOutput Shape          \u001b[0m\u001b[1m \u001b[0m┃\u001b[1m \u001b[0m\u001b[1m      Param #\u001b[0m\u001b[1m \u001b[0m┃\n",
              "┡━━━━━━━━━━━━━━━━━━━━━━━━━━━━━━━━━╇━━━━━━━━━━━━━━━━━━━━━━━━╇━━━━━━━━━━━━━━━┩\n",
              "│ lstm (\u001b[38;5;33mLSTM\u001b[0m)                     │ (\u001b[38;5;45mNone\u001b[0m, \u001b[38;5;34m100\u001b[0m, \u001b[38;5;34m64\u001b[0m)        │        \u001b[38;5;34m20,224\u001b[0m │\n",
              "├─────────────────────────────────┼────────────────────────┼───────────────┤\n",
              "│ dropout (\u001b[38;5;33mDropout\u001b[0m)               │ (\u001b[38;5;45mNone\u001b[0m, \u001b[38;5;34m100\u001b[0m, \u001b[38;5;34m64\u001b[0m)        │             \u001b[38;5;34m0\u001b[0m │\n",
              "├─────────────────────────────────┼────────────────────────┼───────────────┤\n",
              "│ lstm_1 (\u001b[38;5;33mLSTM\u001b[0m)                   │ (\u001b[38;5;45mNone\u001b[0m, \u001b[38;5;34m32\u001b[0m)             │        \u001b[38;5;34m12,416\u001b[0m │\n",
              "├─────────────────────────────────┼────────────────────────┼───────────────┤\n",
              "│ dropout_1 (\u001b[38;5;33mDropout\u001b[0m)             │ (\u001b[38;5;45mNone\u001b[0m, \u001b[38;5;34m32\u001b[0m)             │             \u001b[38;5;34m0\u001b[0m │\n",
              "├─────────────────────────────────┼────────────────────────┼───────────────┤\n",
              "│ dense (\u001b[38;5;33mDense\u001b[0m)                   │ (\u001b[38;5;45mNone\u001b[0m, \u001b[38;5;34m1\u001b[0m)              │            \u001b[38;5;34m33\u001b[0m │\n",
              "└─────────────────────────────────┴────────────────────────┴───────────────┘\n"
            ]
          },
          "metadata": {},
          "output_type": "display_data"
        },
        {
          "data": {
            "text/html": [
              "<pre style=\"white-space:pre;overflow-x:auto;line-height:normal;font-family:Menlo,'DejaVu Sans Mono',consolas,'Courier New',monospace\"><span style=\"font-weight: bold\"> Total params: </span><span style=\"color: #00af00; text-decoration-color: #00af00\">32,673</span> (127.63 KB)\n",
              "</pre>\n"
            ],
            "text/plain": [
              "\u001b[1m Total params: \u001b[0m\u001b[38;5;34m32,673\u001b[0m (127.63 KB)\n"
            ]
          },
          "metadata": {},
          "output_type": "display_data"
        },
        {
          "data": {
            "text/html": [
              "<pre style=\"white-space:pre;overflow-x:auto;line-height:normal;font-family:Menlo,'DejaVu Sans Mono',consolas,'Courier New',monospace\"><span style=\"font-weight: bold\"> Trainable params: </span><span style=\"color: #00af00; text-decoration-color: #00af00\">32,673</span> (127.63 KB)\n",
              "</pre>\n"
            ],
            "text/plain": [
              "\u001b[1m Trainable params: \u001b[0m\u001b[38;5;34m32,673\u001b[0m (127.63 KB)\n"
            ]
          },
          "metadata": {},
          "output_type": "display_data"
        },
        {
          "data": {
            "text/html": [
              "<pre style=\"white-space:pre;overflow-x:auto;line-height:normal;font-family:Menlo,'DejaVu Sans Mono',consolas,'Courier New',monospace\"><span style=\"font-weight: bold\"> Non-trainable params: </span><span style=\"color: #00af00; text-decoration-color: #00af00\">0</span> (0.00 B)\n",
              "</pre>\n"
            ],
            "text/plain": [
              "\u001b[1m Non-trainable params: \u001b[0m\u001b[38;5;34m0\u001b[0m (0.00 B)\n"
            ]
          },
          "metadata": {},
          "output_type": "display_data"
        }
      ],
      "source": [
        "model.summary()"
      ]
    },
    {
      "cell_type": "code",
      "execution_count": 23,
      "metadata": {
        "id": "-XPyXwdFC2t6"
      },
      "outputs": [],
      "source": [
        "early_stopping = EarlyStopping(\n",
        "    monitor=\"val_loss\",\n",
        "    patience=5,\n",
        "    restore_best_weights=True,\n",
        ")"
      ]
    },
    {
      "cell_type": "code",
      "execution_count": 24,
      "metadata": {
        "colab": {
          "base_uri": "https://localhost:8080/"
        },
        "id": "rfWkdrxRC2t6",
        "outputId": "e3335158-90ca-4487-e329-0420c76fc81b"
      },
      "outputs": [
        {
          "name": "stdout",
          "output_type": "stream",
          "text": [
            "Epoch 1/100\n",
            "\u001b[1m2497/2497\u001b[0m \u001b[32m━━━━━━━━━━━━━━━━━━━━\u001b[0m\u001b[37m\u001b[0m \u001b[1m219s\u001b[0m 86ms/step - loss: 0.0960 - val_loss: 0.0840\n",
            "Epoch 2/100\n",
            "\u001b[1m2497/2497\u001b[0m \u001b[32m━━━━━━━━━━━━━━━━━━━━\u001b[0m\u001b[37m\u001b[0m \u001b[1m194s\u001b[0m 78ms/step - loss: 0.0833 - val_loss: 0.0839\n",
            "Epoch 3/100\n",
            "\u001b[1m2497/2497\u001b[0m \u001b[32m━━━━━━━━━━━━━━━━━━━━\u001b[0m\u001b[37m\u001b[0m \u001b[1m188s\u001b[0m 75ms/step - loss: 0.0835 - val_loss: 0.0839\n",
            "Epoch 4/100\n",
            "\u001b[1m2497/2497\u001b[0m \u001b[32m━━━━━━━━━━━━━━━━━━━━\u001b[0m\u001b[37m\u001b[0m \u001b[1m161s\u001b[0m 65ms/step - loss: 0.0830 - val_loss: 0.0840\n",
            "Epoch 5/100\n",
            "\u001b[1m2497/2497\u001b[0m \u001b[32m━━━━━━━━━━━━━━━━━━━━\u001b[0m\u001b[37m\u001b[0m \u001b[1m144s\u001b[0m 58ms/step - loss: 0.0829 - val_loss: 0.0839\n",
            "Epoch 6/100\n",
            "\u001b[1m2497/2497\u001b[0m \u001b[32m━━━━━━━━━━━━━━━━━━━━\u001b[0m\u001b[37m\u001b[0m \u001b[1m144s\u001b[0m 58ms/step - loss: 0.0830 - val_loss: 0.0840\n",
            "Epoch 7/100\n",
            "\u001b[1m2497/2497\u001b[0m \u001b[32m━━━━━━━━━━━━━━━━━━━━\u001b[0m\u001b[37m\u001b[0m \u001b[1m136s\u001b[0m 55ms/step - loss: 0.0829 - val_loss: 0.0840\n",
            "Epoch 8/100\n",
            "\u001b[1m2497/2497\u001b[0m \u001b[32m━━━━━━━━━━━━━━━━━━━━\u001b[0m\u001b[37m\u001b[0m \u001b[1m138s\u001b[0m 55ms/step - loss: 0.0830 - val_loss: 0.0840\n",
            "Epoch 9/100\n",
            "\u001b[1m2497/2497\u001b[0m \u001b[32m━━━━━━━━━━━━━━━━━━━━\u001b[0m\u001b[37m\u001b[0m \u001b[1m143s\u001b[0m 57ms/step - loss: 0.0831 - val_loss: 0.0839\n",
            "Epoch 10/100\n",
            "\u001b[1m2497/2497\u001b[0m \u001b[32m━━━━━━━━━━━━━━━━━━━━\u001b[0m\u001b[37m\u001b[0m \u001b[1m141s\u001b[0m 57ms/step - loss: 0.0832 - val_loss: 0.0839\n",
            "Epoch 11/100\n",
            "\u001b[1m2497/2497\u001b[0m \u001b[32m━━━━━━━━━━━━━━━━━━━━\u001b[0m\u001b[37m\u001b[0m \u001b[1m142s\u001b[0m 57ms/step - loss: 0.0831 - val_loss: 0.0840\n",
            "Epoch 12/100\n",
            "\u001b[1m2497/2497\u001b[0m \u001b[32m━━━━━━━━━━━━━━━━━━━━\u001b[0m\u001b[37m\u001b[0m \u001b[1m141s\u001b[0m 56ms/step - loss: 0.0832 - val_loss: 0.0839\n",
            "Epoch 13/100\n",
            "\u001b[1m2497/2497\u001b[0m \u001b[32m━━━━━━━━━━━━━━━━━━━━\u001b[0m\u001b[37m\u001b[0m \u001b[1m164s\u001b[0m 66ms/step - loss: 0.0835 - val_loss: 0.0839\n",
            "Epoch 14/100\n",
            "\u001b[1m2497/2497\u001b[0m \u001b[32m━━━━━━━━━━━━━━━━━━━━\u001b[0m\u001b[37m\u001b[0m \u001b[1m138s\u001b[0m 55ms/step - loss: 0.0833 - val_loss: 0.0839\n",
            "Epoch 15/100\n",
            "\u001b[1m2497/2497\u001b[0m \u001b[32m━━━━━━━━━━━━━━━━━━━━\u001b[0m\u001b[37m\u001b[0m \u001b[1m140s\u001b[0m 56ms/step - loss: 0.0828 - val_loss: 0.0839\n",
            "Epoch 16/100\n",
            "\u001b[1m2497/2497\u001b[0m \u001b[32m━━━━━━━━━━━━━━━━━━━━\u001b[0m\u001b[37m\u001b[0m \u001b[1m139s\u001b[0m 56ms/step - loss: 0.0830 - val_loss: 0.0839\n",
            "Epoch 17/100\n",
            "\u001b[1m2497/2497\u001b[0m \u001b[32m━━━━━━━━━━━━━━━━━━━━\u001b[0m\u001b[37m\u001b[0m \u001b[1m142s\u001b[0m 57ms/step - loss: 0.0827 - val_loss: 0.0840\n"
          ]
        }
      ],
      "source": [
        "history = model.fit(train_X,train_Y, validation_data = (test_X, test_Y), epochs = 100, callbacks = [early_stopping],verbose = 1)"
      ]
    },
    {
      "cell_type": "code",
      "execution_count": 25,
      "metadata": {
        "colab": {
          "base_uri": "https://localhost:8080/"
        },
        "id": "P2ol3Xk9C2uU",
        "outputId": "016abd84-1ce4-4d3c-bf0c-02b2ba6a030e"
      },
      "outputs": [
        {
          "data": {
            "text/plain": [
              "dict_keys(['loss', 'val_loss'])"
            ]
          },
          "execution_count": 25,
          "metadata": {},
          "output_type": "execute_result"
        }
      ],
      "source": [
        "history.history.keys()"
      ]
    },
    {
      "cell_type": "code",
      "execution_count": 26,
      "metadata": {
        "colab": {
          "base_uri": "https://localhost:8080/"
        },
        "id": "s1LnhF3aC2uW",
        "outputId": "4e522734-bb2f-4a05-d227-df81b93deee1"
      },
      "outputs": [
        {
          "name": "stdout",
          "output_type": "stream",
          "text": [
            "\u001b[1m625/625\u001b[0m \u001b[32m━━━━━━━━━━━━━━━━━━━━\u001b[0m\u001b[37m\u001b[0m \u001b[1m3s\u001b[0m 4ms/step\n"
          ]
        }
      ],
      "source": [
        "predict = model.predict(test_X)"
      ]
    },
    {
      "cell_type": "code",
      "execution_count": 27,
      "metadata": {
        "id": "DMz4c0YkNUYG"
      },
      "outputs": [],
      "source": [
        "### Calculate RMSE performance metrics\n",
        "import math\n",
        "from sklearn.metrics import mean_squared_error"
      ]
    },
    {
      "cell_type": "code",
      "execution_count": 28,
      "metadata": {
        "colab": {
          "base_uri": "https://localhost:8080/"
        },
        "id": "FR_SsRbFC2uW",
        "outputId": "ef0b6886-dc02-4cf9-def3-015daf41bb8b"
      },
      "outputs": [
        {
          "data": {
            "text/plain": [
              "0.2896974699347566"
            ]
          },
          "execution_count": 28,
          "metadata": {},
          "output_type": "execute_result"
        }
      ],
      "source": [
        "math.sqrt(mean_squared_error(test_Y,predict))"
      ]
    },
    {
      "cell_type": "code",
      "execution_count": 29,
      "metadata": {
        "colab": {
          "base_uri": "https://localhost:8080/",
          "height": 472
        },
        "id": "e07n12_pC2uX",
        "outputId": "c7e436ff-fe2b-416e-814a-2c3fb7a0e6f7"
      },
      "outputs": [
        {
          "data": {
            "image/png": "[encoded data removed]",
            "text/plain": [
              "<Figure size 640x480 with 1 Axes>"
            ]
          },
          "metadata": {},
          "output_type": "display_data"
        }
      ],
      "source": [
        "# summarize history for loss\n",
        "plt.plot(history.history['loss'])\n",
        "plt.plot(history.history['val_loss'])\n",
        "plt.title('model loss')\n",
        "plt.ylabel('loss')\n",
        "plt.xlabel('epoch')\n",
        "plt.legend(['train', 'test'], loc='upper left')\n",
        "plt.show()"
      ]
    }
  ],
  "metadata": {
    "colab": {
      "provenance": []
    },
    "kernelspec": {
      "display_name": "Python 3",
      "language": "python",
      "name": "python3"
    },
    "language_info": {
      "codemirror_mode": {
        "name": "ipython",
        "version": 3
      },
      "file_extension": ".py",
      "mimetype": "text/x-python",
      "name": "python",
      "nbconvert_exporter": "python",
      "pygments_lexer": "ipython3",
      "version": "3.10.5"
    }
  },
  "nbformat": 4,
  "nbformat_minor": 0
}
